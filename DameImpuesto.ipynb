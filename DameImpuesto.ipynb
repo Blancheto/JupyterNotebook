{
 "cells": [
  {
   "cell_type": "code",
   "execution_count": 21,
   "metadata": {},
   "outputs": [],
   "source": [
    "def TeDevuelvoTuSueldoBruto(DameSueldo, DameImpuesto): #def nos permite crear la funcion con un nombre y es exclusivo en python \n",
    "    DameSueldo= DameSueldo - round((DameSueldo*DameImpuesto)/100)#mis parámetros son instanciados\n",
    "    print (DameSueldo)#puedes usar print o return a gusto\n",
    "\n"
   ]
  },
  {
   "cell_type": "code",
   "execution_count": 22,
   "metadata": {},
   "outputs": [
    {
     "name": "stdout",
     "output_type": "stream",
     "text": [
      "8000\n"
     ]
    }
   ],
   "source": [
    "TeDevuelvoTuSueldoBruto (10000,20)#los numeros son pasados como argumentos en este ejemplo"
   ]
  },
  {
   "cell_type": "code",
   "execution_count": 1,
   "metadata": {},
   "outputs": [],
   "source": [
    "def TeDevuelvoTuSueldoBruto2(): #forma alternativa que acepta entradas de teclado\n",
    "    x = input ('Dame tu Sueldo:')#un problema de python es que toma cualquier input como string o cadenas\n",
    "    x= int(x)#aqui lo convierto a un numero entero\n",
    "    y = input ('Dame tu Impuesto:')\n",
    "    y= int(y)\n",
    "    x= x - round((x*y)/100) #funcion principal\n",
    "    print ('Este es tu Sueldo bruto:',x)"
   ]
  },
  {
   "cell_type": "code",
   "execution_count": 2,
   "metadata": {},
   "outputs": [
    {
     "name": "stdout",
     "output_type": "stream",
     "text": [
      "Dame tu Sueldo:2130000\n",
      "Dame tu Impuesto:15\n",
      "Este es tu Sueldo bruto: 1810500\n"
     ]
    }
   ],
   "source": [
    "TeDevuelvoTuSueldoBruto2()#llamo a mi funcion y puedo poner los numeros deseados"
   ]
  },
  {
   "cell_type": "code",
   "execution_count": null,
   "metadata": {},
   "outputs": [],
   "source": []
  }
 ],
 "metadata": {
  "kernelspec": {
   "display_name": "Python 3",
   "language": "python",
   "name": "python3"
  },
  "language_info": {
   "codemirror_mode": {
    "name": "ipython",
    "version": 3
   },
   "file_extension": ".py",
   "mimetype": "text/x-python",
   "name": "python",
   "nbconvert_exporter": "python",
   "pygments_lexer": "ipython3",
   "version": "3.7.3"
  }
 },
 "nbformat": 4,
 "nbformat_minor": 2
}
